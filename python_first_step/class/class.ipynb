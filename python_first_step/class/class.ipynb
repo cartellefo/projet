{
 "cells": [
  {
   "cell_type": "code",
   "execution_count": 21,
   "metadata": {},
   "outputs": [],
   "source": []
  },
  {
   "cell_type": "code",
   "execution_count": 78,
   "metadata": {},
   "outputs": [
    {
     "name": "stdout",
     "output_type": "stream",
     "text": [
      "EmployeeRe.__doc__: Common base class for all employees\n",
      "EmployeeRe.__name__: Employee\n",
      "EmployeeRe.__module__: __main__\n",
      "EmployeeRe.__bases__: (<class 'object'>,)\n",
      "EmployeeRe.__dict__: {'__module__': '__main__', '__doc__': 'Common base class for all employees', 'empCount': 1, '__init__': <function Employee.__init__ at 0x103e73c80>, 'displayCount': <function Employee.displayCount at 0x103e73bf8>, 'displayEmployee': <function Employee.displayEmployee at 0x103e73d08>, '__dict__': <attribute '__dict__' of 'Employee' objects>, '__weakref__': <attribute '__weakref__' of 'Employee' objects>}\n",
      "Name : zara salary : 200 age : 25\n",
      "Name : Sven salary : 100 age : 37\n",
      "Name : marko salary : 100 age : 38\n",
      "Name : niklas salary : 75 age : 26\n"
     ]
    }
   ],
   "source": [
    "class EmployeeRe:\n",
    "    'base class for all employees'\n",
    "    empCount = 0\n",
    "    \n",
    "    def __init__(self, name,salary,age):\n",
    "        self.name = name\n",
    "        self.salary = salary\n",
    "        self.age = age\n",
    "        EmployeeRe.empCount+= 1\n",
    "        \n",
    "    def displaycount(self):\n",
    "        print(\"Total EmployeeRe %d\" % EmployeeRe.empCount)\n",
    "        \n",
    "    def displayEmployeeRe(self):\n",
    "        print(\"Name :\",self.name, \"salary :\", self.salary, \"age :\", self.age)\n",
    "print(\"EmployeeRe.__doc__:\", Employee.__doc__)\n",
    "print(\"EmployeeRe.__name__:\", Employee.__name__)\n",
    "print(\"EmployeeRe.__module__:\", Employee.__module__)\n",
    "print(\"EmployeeRe.__bases__:\", Employee.__bases__)\n",
    "print(\"EmployeeRe.__dict__:\", Employee.__dict__)\n",
    "        \n",
    "#creating instances objects       \n",
    "emp1 = EmployeeRe(\"zara\",200,25)\n",
    "emp2 = EmployeeRe(\"Sven\", 100,37)\n",
    "emp3 = EmployeeRe(\"marko\",100,38)      \n",
    "emp4 = EmployeeRe(\"niklas\",75,26)\n",
    "\n",
    "#Accessing Attributes\n",
    "emp1.displayEmployeeRe()\n",
    "emp2.displayEmployeeRe()\n",
    "emp3.displayEmployeeRe()\n",
    "emp4.displayEmployeeRe()\n",
    "\n",
    "# Add, Remove or modify attribute of classes\n",
    "\n",
    "emp1.große = 140\n",
    "#del emp1.age\n",
    "\n",
    "\n",
    "## fonctions to modify the attributes\n",
    "getattr(emp1,'age') # returns values of age\n",
    "hasattr(emp1,'age') #returns true if 'age' attribute exists\n",
    "setattr(emp1,'age', 20)\n",
    "#delattr(empl,'große') ####  ###\n",
    "#print(\"Total EmployeeRe %d\" %EmployeeRe.empCount)\n",
    "\n",
    "\n",
    "#print(\"Total EmployeeRe %d\" %EmployeeRe.empCount)\n",
    "\n",
    "\n"
   ]
  },
  {
   "cell_type": "code",
   "execution_count": 81,
   "metadata": {},
   "outputs": [
    {
     "name": "stdout",
     "output_type": "stream",
     "text": [
      "4361118216 4361118216 4361118216\n"
     ]
    }
   ],
   "source": [
    "\n",
    "# destroying Objects\n",
    "class point:\n",
    "    def __init__(self, x=0, y=0):\n",
    "        self.x = x\n",
    "        self.y = y\n",
    "        def __del__(self):\n",
    "            class_name = self.__class__.__name__\n",
    "            print(class_name, \"destroyed\")\n",
    "            \n",
    "pt1 = point()\n",
    "pt2 = pt1\n",
    "pt3 = pt1\n",
    "print(id(pt1), id(pt2), id(pt3)) # prints the ids of the obejcts\n",
    "del pt1\n",
    "del pt2\n",
    "del pt3\n",
    "#print(class_name, \"destroyed\")"
   ]
  },
  {
   "cell_type": "code",
   "execution_count": null,
   "metadata": {},
   "outputs": [],
   "source": []
  },
  {
   "cell_type": "code",
   "execution_count": 85,
   "metadata": {},
   "outputs": [
    {
     "name": "stdout",
     "output_type": "stream",
     "text": [
      "Calling child constructor\n",
      "Calling child method\n",
      "Calling parent method\n",
      "Parent attribute : 200\n"
     ]
    }
   ],
   "source": [
    "# class Inheritance\n",
    "\n",
    "class Parent:        # define parent class\n",
    "   parentAttr = 100\n",
    "   def __init__(self):\n",
    "      print( \"Calling parent constructor\")\n",
    "\n",
    "   def parentMethod(self):\n",
    "      print( 'Calling parent method')\n",
    "\n",
    "   def setAttr(self, attr):\n",
    "      Parent.parentAttr = attr\n",
    "\n",
    "   def getAttr(self):\n",
    "      print( \"Parent attribute :\", Parent.parentAttr)\n",
    "\n",
    "class Child(Parent): # define child class\n",
    "   def __init__(self):\n",
    "      print( \"Calling child constructor\")\n",
    "\n",
    "   def childMethod(self):\n",
    "      print('Calling child method')\n",
    "\n",
    "c = Child()          # instance of child\n",
    "c.childMethod()      # child calls its method\n",
    "c.parentMethod()     # calls parent's method\n",
    "c.setAttr(200)       # again call parent's method\n",
    "c.getAttr()          # again call parent's method\n"
   ]
  },
  {
   "cell_type": "code",
   "execution_count": 86,
   "metadata": {},
   "outputs": [
    {
     "name": "stdout",
     "output_type": "stream",
     "text": [
      "calling child method\n"
     ]
    }
   ],
   "source": [
    "## overriding Methodes\n",
    "class Parent:\n",
    "    def myMethode(self):\n",
    "        print(\"calling parent methode\")\n",
    "class Child(Parent):\n",
    "    def myMethode(self):\n",
    "        print(\"calling child method\")\n",
    "c = Child()\n",
    "c.myMethode()\n",
    "                \n",
    "        "
   ]
  },
  {
   "cell_type": "code",
   "execution_count": null,
   "metadata": {},
   "outputs": [],
   "source": [
    "# base Overloading Methods\n",
    "# __init__(self[,argument...])\n",
    "# __del__(self),\n",
    "# __repr__(self), repr(obj)\n",
    "# __str__(self) str(obj)\n",
    "# __cmp__(self,x) object comparison\n"
   ]
  },
  {
   "cell_type": "code",
   "execution_count": 91,
   "metadata": {},
   "outputs": [
    {
     "name": "stdout",
     "output_type": "stream",
     "text": [
      "Vector (23,-5)\n"
     ]
    }
   ],
   "source": [
    "class Vector:\n",
    "    def __init__(self, a,b):\n",
    "        self.a = a\n",
    "        self.b = b\n",
    "    def __str__(self):\n",
    "        return 'Vector (%d,%d)' %(self.a, self.b)\n",
    "    def __add__(self,other):\n",
    "        return Vector (self.a + other.a,self.b + other.b)\n",
    "v1 = Vector(5,15)\n",
    "v2 = Vector(18, -20)\n",
    "print(v1 + v2)"
   ]
  },
  {
   "cell_type": "code",
   "execution_count": 105,
   "metadata": {},
   "outputs": [
    {
     "name": "stdout",
     "output_type": "stream",
     "text": [
      "1\n",
      "1\n"
     ]
    }
   ],
   "source": [
    "\n",
    "class JustCounter:\n",
    "    __secretCount =0\n",
    "    def count(self):\n",
    "        self.__secretCount +=1\n",
    "        print(self.__secretCount)\n",
    "        \n",
    "counter = JustCounter()\n",
    "counter.count()\n",
    "counter.count\n",
    "#print(counter.__secretCount)\n",
    "print(counter._JustCounter__secretCount)\n",
    "        "
   ]
  },
  {
   "cell_type": "code",
   "execution_count": null,
   "metadata": {},
   "outputs": [],
   "source": []
  }
 ],
 "metadata": {
  "kernelspec": {
   "display_name": "Python 3",
   "language": "python",
   "name": "python3"
  },
  "language_info": {
   "codemirror_mode": {
    "name": "ipython",
    "version": 3
   },
   "file_extension": ".py",
   "mimetype": "text/x-python",
   "name": "python",
   "nbconvert_exporter": "python",
   "pygments_lexer": "ipython3",
   "version": "3.7.0"
  }
 },
 "nbformat": 4,
 "nbformat_minor": 2
}
